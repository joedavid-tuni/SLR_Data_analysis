{
 "cells": [
  {
   "cell_type": "markdown",
   "metadata": {},
   "source": [
    "# Data Analysis and Visualization of Exported Atlas.ti report for a Systematic Literature Review"
   ]
  },
  {
   "cell_type": "markdown",
   "metadata": {},
   "source": [
    "#### Importing required libraries"
   ]
  },
  {
   "cell_type": "code",
   "execution_count": 19,
   "metadata": {},
   "outputs": [],
   "source": [
    "import pandas as pd\n",
    "import numpy as np\n",
    "import re\n",
    "import matplotlib.pyplot as plt\n",
    "from matplotlib.ticker import MaxNLocator\n",
    "%matplotlib inline"
   ]
  },
  {
   "cell_type": "markdown",
   "metadata": {},
   "source": [
    "## Focus Areas and Perceived Benefits"
   ]
  },
  {
   "cell_type": "code",
   "execution_count": 20,
   "metadata": {},
   "outputs": [],
   "source": [
    "# SET VALUES BEFORE EXECUTING\n",
    "TITLE_INDEX = 0\n",
    "YEAR_INDEX = 1\n",
    "AUTHOR_INDEX = 2"
   ]
  },
  {
   "cell_type": "code",
   "execution_count": 21,
   "metadata": {},
   "outputs": [
    {
     "data": {
      "text/html": [
       "<div>\n",
       "<style scoped>\n",
       "    .dataframe tbody tr th:only-of-type {\n",
       "        vertical-align: middle;\n",
       "    }\n",
       "\n",
       "    .dataframe tbody tr th {\n",
       "        vertical-align: top;\n",
       "    }\n",
       "\n",
       "    .dataframe thead th {\n",
       "        text-align: right;\n",
       "    }\n",
       "</style>\n",
       "<table border=\"1\" class=\"dataframe\">\n",
       "  <thead>\n",
       "    <tr style=\"text-align: right;\">\n",
       "      <th></th>\n",
       "      <th>● dom: additive manufacturing\n",
       "Gr=11</th>\n",
       "      <th>● dom: aerospace\n",
       "Gr=21</th>\n",
       "      <th>● dom: automotive\n",
       "Gr=1</th>\n",
       "      <th>● dom: biopharmaceutical\n",
       "Gr=1</th>\n",
       "      <th>● dom: chips\n",
       "Gr=1</th>\n",
       "      <th>● dom: education\n",
       "Gr=3</th>\n",
       "      <th>● dom: energy\n",
       "Gr=2</th>\n",
       "      <th>● dom: IIoT\n",
       "Gr=1</th>\n",
       "      <th>● dom: Industry 4.0\n",
       "Gr=15</th>\n",
       "      <th>● dom: intelligent manufacturing\n",
       "Gr=2</th>\n",
       "      <th>...</th>\n",
       "      <th>○ PB: transparent, interoperable, scalable data representation\n",
       "Gr=1</th>\n",
       "      <th>○ PB: Uncertainty Quantification\n",
       "Gr=1</th>\n",
       "      <th>○ PB: understanding the digital thread\n",
       "Gr=3</th>\n",
       "      <th>○ PB: verification and validation\n",
       "Gr=0</th>\n",
       "      <th>○ PB: Verification and validation of AM digital thread information\n",
       "Gr=1</th>\n",
       "      <th>● typ: approach / methodology\n",
       "Gr=16</th>\n",
       "      <th>● typ: concept, architecture or theoretical solution\n",
       "Gr=16</th>\n",
       "      <th>● typ: implementation\n",
       "Gr=13</th>\n",
       "      <th>● typ: review / survey / evaluation\n",
       "Gr=13</th>\n",
       "      <th>Totals</th>\n",
       "    </tr>\n",
       "  </thead>\n",
       "  <tbody>\n",
       "    <tr>\n",
       "      <th>3D PROCESS ANALYTICS FOR CARBON COMPOSITE MANUFACTURING - 2014- Kesler et al.\\nGr=3</th>\n",
       "      <td>0</td>\n",
       "      <td>1</td>\n",
       "      <td>0</td>\n",
       "      <td>0</td>\n",
       "      <td>0</td>\n",
       "      <td>0</td>\n",
       "      <td>0</td>\n",
       "      <td>0</td>\n",
       "      <td>0</td>\n",
       "      <td>0</td>\n",
       "      <td>...</td>\n",
       "      <td>0</td>\n",
       "      <td>0</td>\n",
       "      <td>0</td>\n",
       "      <td>0</td>\n",
       "      <td>0</td>\n",
       "      <td>0</td>\n",
       "      <td>0</td>\n",
       "      <td>1</td>\n",
       "      <td>0</td>\n",
       "      <td>6</td>\n",
       "    </tr>\n",
       "    <tr>\n",
       "      <th>A closed-loop inspection architecture for additive manufacturing based on step standard - 2019 - Riaño, Rodriguez, Alvares\\nGr=7</th>\n",
       "      <td>1</td>\n",
       "      <td>0</td>\n",
       "      <td>0</td>\n",
       "      <td>0</td>\n",
       "      <td>0</td>\n",
       "      <td>0</td>\n",
       "      <td>0</td>\n",
       "      <td>0</td>\n",
       "      <td>1</td>\n",
       "      <td>0</td>\n",
       "      <td>...</td>\n",
       "      <td>0</td>\n",
       "      <td>0</td>\n",
       "      <td>0</td>\n",
       "      <td>0</td>\n",
       "      <td>0</td>\n",
       "      <td>0</td>\n",
       "      <td>0</td>\n",
       "      <td>1</td>\n",
       "      <td>0</td>\n",
       "      <td>9</td>\n",
       "    </tr>\n",
       "  </tbody>\n",
       "</table>\n",
       "<p>2 rows × 197 columns</p>\n",
       "</div>"
      ],
      "text/plain": [
       "                                                    ● dom: additive manufacturing\\nGr=11  \\\n",
       "3D PROCESS ANALYTICS FOR CARBON COMPOSITE MANUF...                                     0   \n",
       "A closed-loop inspection architecture for addit...                                     1   \n",
       "\n",
       "                                                    ● dom: aerospace\\nGr=21  \\\n",
       "3D PROCESS ANALYTICS FOR CARBON COMPOSITE MANUF...                        1   \n",
       "A closed-loop inspection architecture for addit...                        0   \n",
       "\n",
       "                                                    ● dom: automotive\\nGr=1  \\\n",
       "3D PROCESS ANALYTICS FOR CARBON COMPOSITE MANUF...                        0   \n",
       "A closed-loop inspection architecture for addit...                        0   \n",
       "\n",
       "                                                    ● dom: biopharmaceutical\\nGr=1  \\\n",
       "3D PROCESS ANALYTICS FOR CARBON COMPOSITE MANUF...                               0   \n",
       "A closed-loop inspection architecture for addit...                               0   \n",
       "\n",
       "                                                    ● dom: chips\\nGr=1  \\\n",
       "3D PROCESS ANALYTICS FOR CARBON COMPOSITE MANUF...                   0   \n",
       "A closed-loop inspection architecture for addit...                   0   \n",
       "\n",
       "                                                    ● dom: education\\nGr=3  \\\n",
       "3D PROCESS ANALYTICS FOR CARBON COMPOSITE MANUF...                       0   \n",
       "A closed-loop inspection architecture for addit...                       0   \n",
       "\n",
       "                                                    ● dom: energy\\nGr=2  \\\n",
       "3D PROCESS ANALYTICS FOR CARBON COMPOSITE MANUF...                    0   \n",
       "A closed-loop inspection architecture for addit...                    0   \n",
       "\n",
       "                                                    ● dom: IIoT\\nGr=1  \\\n",
       "3D PROCESS ANALYTICS FOR CARBON COMPOSITE MANUF...                  0   \n",
       "A closed-loop inspection architecture for addit...                  0   \n",
       "\n",
       "                                                    ● dom: Industry 4.0\\nGr=15  \\\n",
       "3D PROCESS ANALYTICS FOR CARBON COMPOSITE MANUF...                           0   \n",
       "A closed-loop inspection architecture for addit...                           1   \n",
       "\n",
       "                                                    ● dom: intelligent manufacturing\\nGr=2  \\\n",
       "3D PROCESS ANALYTICS FOR CARBON COMPOSITE MANUF...                                       0   \n",
       "A closed-loop inspection architecture for addit...                                       0   \n",
       "\n",
       "                                                     ...    \\\n",
       "3D PROCESS ANALYTICS FOR CARBON COMPOSITE MANUF...   ...     \n",
       "A closed-loop inspection architecture for addit...   ...     \n",
       "\n",
       "                                                    ○ PB: transparent, interoperable, scalable data representation\\nGr=1  \\\n",
       "3D PROCESS ANALYTICS FOR CARBON COMPOSITE MANUF...                                                  0                      \n",
       "A closed-loop inspection architecture for addit...                                                  0                      \n",
       "\n",
       "                                                    ○ PB: Uncertainty Quantification\\nGr=1  \\\n",
       "3D PROCESS ANALYTICS FOR CARBON COMPOSITE MANUF...                                       0   \n",
       "A closed-loop inspection architecture for addit...                                       0   \n",
       "\n",
       "                                                    ○ PB: understanding the digital thread\\nGr=3  \\\n",
       "3D PROCESS ANALYTICS FOR CARBON COMPOSITE MANUF...                                             0   \n",
       "A closed-loop inspection architecture for addit...                                             0   \n",
       "\n",
       "                                                    ○ PB: verification and validation\\nGr=0  \\\n",
       "3D PROCESS ANALYTICS FOR CARBON COMPOSITE MANUF...                                        0   \n",
       "A closed-loop inspection architecture for addit...                                        0   \n",
       "\n",
       "                                                    ○ PB: Verification and validation of AM digital thread information\\nGr=1  \\\n",
       "3D PROCESS ANALYTICS FOR CARBON COMPOSITE MANUF...                                                  0                          \n",
       "A closed-loop inspection architecture for addit...                                                  0                          \n",
       "\n",
       "                                                    ● typ: approach / methodology\\nGr=16  \\\n",
       "3D PROCESS ANALYTICS FOR CARBON COMPOSITE MANUF...                                     0   \n",
       "A closed-loop inspection architecture for addit...                                     0   \n",
       "\n",
       "                                                    ● typ: concept, architecture or theoretical solution\\nGr=16  \\\n",
       "3D PROCESS ANALYTICS FOR CARBON COMPOSITE MANUF...                                                  0             \n",
       "A closed-loop inspection architecture for addit...                                                  0             \n",
       "\n",
       "                                                    ● typ: implementation\\nGr=13  \\\n",
       "3D PROCESS ANALYTICS FOR CARBON COMPOSITE MANUF...                             1   \n",
       "A closed-loop inspection architecture for addit...                             1   \n",
       "\n",
       "                                                    ● typ: review / survey / evaluation\\nGr=13  \\\n",
       "3D PROCESS ANALYTICS FOR CARBON COMPOSITE MANUF...                                           0   \n",
       "A closed-loop inspection architecture for addit...                                           0   \n",
       "\n",
       "                                                    Totals  \n",
       "3D PROCESS ANALYTICS FOR CARBON COMPOSITE MANUF...       6  \n",
       "A closed-loop inspection architecture for addit...       9  \n",
       "\n",
       "[2 rows x 197 columns]"
      ]
     },
     "execution_count": 21,
     "metadata": {},
     "output_type": "execute_result"
    }
   ],
   "source": [
    "df = pd.read_excel('latest revised report.xlsx', index_col=0)\n",
    "df.head(2)"
   ]
  },
  {
   "cell_type": "code",
   "execution_count": 22,
   "metadata": {},
   "outputs": [
    {
     "data": {
      "text/plain": [
       "(58, 196)"
      ]
     },
     "execution_count": 22,
     "metadata": {},
     "output_type": "execute_result"
    }
   ],
   "source": [
    "# Drop Totals columns\n",
    "df.drop(df.columns[len(df.columns)-1], axis=1, inplace=True)\n",
    "df.drop(df.tail(1).index,inplace=True)\n",
    "df.shape"
   ]
  },
  {
   "cell_type": "code",
   "execution_count": 23,
   "metadata": {},
   "outputs": [],
   "source": [
    "# Remove Groundedness Data from Atlas\n",
    "df.columns = [x.splitlines()[0] for x in df.columns]\n",
    "df.index = [x.splitlines()[0] for x in df.index]\n",
    "documentNosToRename = []\n",
    "documents = []\n",
    "flag = False\n",
    "for i, x in enumerate(df.index):\n",
    "    if (x.count('-')<2):\n",
    "        flag = True\n",
    "        documentNosToRename.append(i)\n",
    "        documents.append(x)\n",
    "        print(df.index[i])\n",
    "        \n",
    "if flag:\n",
    "    print('Document(s) not matching Document - Year - Author format at position(s)', documentNosToRename, ' ', documents )"
   ]
  },
  {
   "cell_type": "code",
   "execution_count": 24,
   "metadata": {},
   "outputs": [],
   "source": [
    "# Remove unwanted characters introduced by Atlas.ti\n",
    "df.columns = [re.sub(r'● ', '', x) for x in df.columns]\n",
    "df.columns = [re.sub(r'○ ', '', x) for x in df.columns]"
   ]
  },
  {
   "cell_type": "code",
   "execution_count": 25,
   "metadata": {},
   "outputs": [],
   "source": [
    "#  checking for unexpected datatpe in Year Column\n",
    "years = [x.rsplit('-',2)[YEAR_INDEX].strip() for x in df.index ]\n",
    "years = [x  if x.isnumeric() else None for x in years]\n",
    "if None in years:\n",
    "    print('[Warning] Non-numeric data detected in column Year')\n",
    "df.insert(0,'Year',years)"
   ]
  },
  {
   "cell_type": "code",
   "execution_count": 26,
   "metadata": {},
   "outputs": [],
   "source": [
    "#  checking for unexpected datatpe in Author Column\n",
    "authors = [x.rsplit('-',2)[2] for x in df.index ]\n",
    "authors = [x if not x.isnumeric() else None for x in authors ]\n",
    "if None in authors:\n",
    "    print('[Warning] Numeric Data detected in column Author')\n",
    "df.insert(0,'Author(s)',authors)"
   ]
  },
  {
   "cell_type": "code",
   "execution_count": 27,
   "metadata": {},
   "outputs": [],
   "source": [
    "# Formatting Title Name of corpus\n",
    "title = [x.rsplit('-',2)[TITLE_INDEX] for x in df.index]\n",
    "df.insert(0,'Title',title)"
   ]
  },
  {
   "cell_type": "code",
   "execution_count": 28,
   "metadata": {},
   "outputs": [],
   "source": [
    "# Setting new title name as index of dataframe\n",
    "df.reset_index(drop=True, inplace=True )\n",
    "df.set_index('Title', inplace=True)"
   ]
  },
  {
   "cell_type": "code",
   "execution_count": 29,
   "metadata": {},
   "outputs": [],
   "source": [
    "domain_column_names = [x for x in df.columns if x.startswith('dom:')]\n",
    "FA_column_names =  [x for x in df.columns if x.startswith('FA:')]\n",
    "PB_column_names =  [x for x in df.columns if x.startswith('PB:')]\n",
    "CAT_column_names =  [x for x in df.columns if x.startswith('typ:')]\n",
    "LIF_column_names = [x for x in df.columns if x.startswith('lifcyc:')]"
   ]
  },
  {
   "cell_type": "code",
   "execution_count": 30,
   "metadata": {},
   "outputs": [],
   "source": [
    "# replacing one-hot encoded 'domain' column with textual descriptions\n",
    "p =[]\n",
    "for index, row in df.iterrows():\n",
    "    domain = row[domain_column_names][row[domain_column_names]==1].keys()\n",
    "    domains = [x.split(':')[-1] for x in domain]\n",
    "    p.append(domains)\n"
   ]
  },
  {
   "cell_type": "code",
   "execution_count": 31,
   "metadata": {},
   "outputs": [],
   "source": [
    "# replacing one-hot encoded 'focus area' column with textual descriptions\n",
    "q = []\n",
    "for index, row in df.iterrows():\n",
    "    focus_area = row[FA_column_names][row[FA_column_names]==1].keys()\n",
    "    focus_areas = [x.split(':')[-1] for x in focus_area]\n",
    "    q.append(focus_areas)"
   ]
  },
  {
   "cell_type": "code",
   "execution_count": 32,
   "metadata": {},
   "outputs": [],
   "source": [
    "# replacing one-hot encoded 'perceived benefit' column with textual descriptions\n",
    "r = []\n",
    "for index, row in df.iterrows():\n",
    "    perceived_benefit = row[PB_column_names][row[PB_column_names]==1].keys()\n",
    "    perceived_benefits = [x.split(':')[-1] for x in perceived_benefit]\n",
    "    r.append(perceived_benefits)"
   ]
  },
  {
   "cell_type": "code",
   "execution_count": 33,
   "metadata": {},
   "outputs": [],
   "source": [
    "# replacing one-hot encoded 'category' column with textual descriptions\n",
    "s = []\n",
    "for index, row in df.iterrows():\n",
    "    category = row[CAT_column_names][row[CAT_column_names]==1].keys()\n",
    "    categories = [x.split(':')[-1] for x in category]\n",
    "    s.append(categories)"
   ]
  },
  {
   "cell_type": "code",
   "execution_count": 34,
   "metadata": {},
   "outputs": [],
   "source": [
    "# inserting textual descriptions and removing one-hot encoded columns\n",
    "df.insert(3,'Perceived Benefit',r)\n",
    "df.insert(3,'Focus Areas',q)\n",
    "df.insert(3,'Domains',p)\n",
    "df.insert(3,'Category',s)\n",
    "df.drop(domain_column_names, axis =1, inplace=True)\n",
    "df.drop(FA_column_names, axis =1, inplace=True)\n",
    "df.drop(PB_column_names, axis =1, inplace=True)\n",
    "df.drop(CAT_column_names, axis =1, inplace=True)\n",
    "df.reset_index(inplace = True)\n",
    "df = df.set_index('Title')"
   ]
  },
  {
   "cell_type": "code",
   "execution_count": 35,
   "metadata": {},
   "outputs": [],
   "source": [
    "# integrating many valued texts in columns separated by commas\n",
    "dom = [','.join(x).replace(\"'\",\"\") for x in df.Domains.values]\n",
    "df.Domains = dom\n",
    "\n",
    "foc = [','.join(x).replace(\"'\",\"\") for x in df['Focus Areas'].values]\n",
    "df['Focus Areas'] = foc\n",
    "\n",
    "pb = [','.join(x).replace(\"'\",\"\") for x in df['Perceived Benefit'].values]\n",
    "df['Perceived Benefit'] = pb\n",
    "\n",
    "cat = [','.join(x).replace(\"'\",\"\") for x in df['Category'].values]\n",
    "df['Category'] = cat"
   ]
  },
  {
   "cell_type": "code",
   "execution_count": 36,
   "metadata": {},
   "outputs": [
    {
     "data": {
      "text/html": [
       "<div>\n",
       "<style scoped>\n",
       "    .dataframe tbody tr th:only-of-type {\n",
       "        vertical-align: middle;\n",
       "    }\n",
       "\n",
       "    .dataframe tbody tr th {\n",
       "        vertical-align: top;\n",
       "    }\n",
       "\n",
       "    .dataframe thead th {\n",
       "        text-align: right;\n",
       "    }\n",
       "</style>\n",
       "<table border=\"1\" class=\"dataframe\">\n",
       "  <thead>\n",
       "    <tr style=\"text-align: right;\">\n",
       "      <th></th>\n",
       "      <th>Author(s)</th>\n",
       "      <th>Year</th>\n",
       "      <th>Category</th>\n",
       "      <th>Domains</th>\n",
       "      <th>Focus Areas</th>\n",
       "      <th>Perceived Benefit</th>\n",
       "      <th>lifcyc: a. planning</th>\n",
       "      <th>lifcyc: b. design</th>\n",
       "      <th>lifcyc: c. manufacturing</th>\n",
       "      <th>lifcyc: d. testing/quality/inspection</th>\n",
       "      <th>lifcyc: e. operations and support</th>\n",
       "      <th>lifcyc: f. end of lfe</th>\n",
       "      <th>lifcyc: z. across lifecycle</th>\n",
       "    </tr>\n",
       "    <tr>\n",
       "      <th>Title</th>\n",
       "      <th></th>\n",
       "      <th></th>\n",
       "      <th></th>\n",
       "      <th></th>\n",
       "      <th></th>\n",
       "      <th></th>\n",
       "      <th></th>\n",
       "      <th></th>\n",
       "      <th></th>\n",
       "      <th></th>\n",
       "      <th></th>\n",
       "      <th></th>\n",
       "      <th></th>\n",
       "    </tr>\n",
       "  </thead>\n",
       "  <tbody>\n",
       "    <tr>\n",
       "      <th>3D PROCESS ANALYTICS FOR CARBON COMPOSITE MANUFACTURING</th>\n",
       "      <td>Kesler et al.</td>\n",
       "      <td>2014</td>\n",
       "      <td>category IV</td>\n",
       "      <td>aerospace</td>\n",
       "      <td>integrate multiple data types</td>\n",
       "      <td>linking as-manufacuted and as-maintained</td>\n",
       "      <td>0</td>\n",
       "      <td>0</td>\n",
       "      <td>1</td>\n",
       "      <td>0</td>\n",
       "      <td>1</td>\n",
       "      <td>0</td>\n",
       "      <td>0</td>\n",
       "    </tr>\n",
       "    <tr>\n",
       "      <th>A closed-loop inspection architecture for additive manufacturing based on step standard</th>\n",
       "      <td>Riaño, Rodriguez, Alvares</td>\n",
       "      <td>2019</td>\n",
       "      <td>category IV</td>\n",
       "      <td>additive manufacturing, Industry 4.0</td>\n",
       "      <td>Closed Loop Feedback between inspection, manu...</td>\n",
       "      <td>imporove part quality, optmized manufacturing...</td>\n",
       "      <td>0</td>\n",
       "      <td>1</td>\n",
       "      <td>1</td>\n",
       "      <td>1</td>\n",
       "      <td>0</td>\n",
       "      <td>0</td>\n",
       "      <td>0</td>\n",
       "    </tr>\n",
       "  </tbody>\n",
       "</table>\n",
       "</div>"
      ],
      "text/plain": [
       "                                                                     Author(s)  \\\n",
       "Title                                                                            \n",
       "3D PROCESS ANALYTICS FOR CARBON COMPOSITE MANUF...               Kesler et al.   \n",
       "A closed-loop inspection architecture for addit...   Riaño, Rodriguez, Alvares   \n",
       "\n",
       "                                                    Year     Category  \\\n",
       "Title                                                                   \n",
       "3D PROCESS ANALYTICS FOR CARBON COMPOSITE MANUF...  2014  category IV   \n",
       "A closed-loop inspection architecture for addit...  2019  category IV   \n",
       "\n",
       "                                                                                  Domains  \\\n",
       "Title                                                                                       \n",
       "3D PROCESS ANALYTICS FOR CARBON COMPOSITE MANUF...                              aerospace   \n",
       "A closed-loop inspection architecture for addit...   additive manufacturing, Industry 4.0   \n",
       "\n",
       "                                                                                          Focus Areas  \\\n",
       "Title                                                                                                   \n",
       "3D PROCESS ANALYTICS FOR CARBON COMPOSITE MANUF...                      integrate multiple data types   \n",
       "A closed-loop inspection architecture for addit...   Closed Loop Feedback between inspection, manu...   \n",
       "\n",
       "                                                                                    Perceived Benefit  \\\n",
       "Title                                                                                                   \n",
       "3D PROCESS ANALYTICS FOR CARBON COMPOSITE MANUF...           linking as-manufacuted and as-maintained   \n",
       "A closed-loop inspection architecture for addit...   imporove part quality, optmized manufacturing...   \n",
       "\n",
       "                                                    lifcyc: a. planning  \\\n",
       "Title                                                                     \n",
       "3D PROCESS ANALYTICS FOR CARBON COMPOSITE MANUF...                    0   \n",
       "A closed-loop inspection architecture for addit...                    0   \n",
       "\n",
       "                                                    lifcyc: b. design  \\\n",
       "Title                                                                   \n",
       "3D PROCESS ANALYTICS FOR CARBON COMPOSITE MANUF...                  0   \n",
       "A closed-loop inspection architecture for addit...                  1   \n",
       "\n",
       "                                                    lifcyc: c. manufacturing  \\\n",
       "Title                                                                          \n",
       "3D PROCESS ANALYTICS FOR CARBON COMPOSITE MANUF...                         1   \n",
       "A closed-loop inspection architecture for addit...                         1   \n",
       "\n",
       "                                                    lifcyc: d. testing/quality/inspection  \\\n",
       "Title                                                                                       \n",
       "3D PROCESS ANALYTICS FOR CARBON COMPOSITE MANUF...                                      0   \n",
       "A closed-loop inspection architecture for addit...                                      1   \n",
       "\n",
       "                                                    lifcyc: e. operations and support  \\\n",
       "Title                                                                                   \n",
       "3D PROCESS ANALYTICS FOR CARBON COMPOSITE MANUF...                                  1   \n",
       "A closed-loop inspection architecture for addit...                                  0   \n",
       "\n",
       "                                                    lifcyc: f. end of lfe  \\\n",
       "Title                                                                       \n",
       "3D PROCESS ANALYTICS FOR CARBON COMPOSITE MANUF...                      0   \n",
       "A closed-loop inspection architecture for addit...                      0   \n",
       "\n",
       "                                                    lifcyc: z. across lifecycle  \n",
       "Title                                                                            \n",
       "3D PROCESS ANALYTICS FOR CARBON COMPOSITE MANUF...                            0  \n",
       "A closed-loop inspection architecture for addit...                            0  "
      ]
     },
     "execution_count": 36,
     "metadata": {},
     "output_type": "execute_result"
    }
   ],
   "source": [
    "# Map categories to numeric values defined in journal paper\n",
    "di = {' implementation': \"category IV\",\" concept, architecture or theoretical solution\":\"category II\",\" approach / methodology\":\"category III\",\" review / survey / evaluation\":\"category I\"}\n",
    "df['Category'] = df['Category'].map(di)\n",
    "df.head(2)"
   ]
  },
  {
   "cell_type": "code",
   "execution_count": 37,
   "metadata": {},
   "outputs": [],
   "source": [
    "df.to_excel('last processed report.xlsx')"
   ]
  },
  {
   "cell_type": "markdown",
   "metadata": {},
   "source": [
    "## Temporal Distribution of Corpus"
   ]
  },
  {
   "cell_type": "code",
   "execution_count": 38,
   "metadata": {},
   "outputs": [],
   "source": [
    "temp_distribution = df['Year'].value_counts().sort_index()[:-1]\n",
    "temp_distribution= temp_distribution.to_frame(name='Count')\n",
    "# ax = temp_distribution.plot(y=\"Count\")\n",
    "# ax.locator_params(integer=True)"
   ]
  },
  {
   "cell_type": "code",
   "execution_count": 39,
   "metadata": {},
   "outputs": [],
   "source": [
    "temp_distribution\n",
    "temp_distribution = temp_distribution.reset_index().rename(columns={'index':'Year'})"
   ]
  },
  {
   "cell_type": "code",
   "execution_count": 40,
   "metadata": {},
   "outputs": [
    {
     "data": {
      "text/html": [
       "<div>\n",
       "<style scoped>\n",
       "    .dataframe tbody tr th:only-of-type {\n",
       "        vertical-align: middle;\n",
       "    }\n",
       "\n",
       "    .dataframe tbody tr th {\n",
       "        vertical-align: top;\n",
       "    }\n",
       "\n",
       "    .dataframe thead th {\n",
       "        text-align: right;\n",
       "    }\n",
       "</style>\n",
       "<table border=\"1\" class=\"dataframe\">\n",
       "  <thead>\n",
       "    <tr style=\"text-align: right;\">\n",
       "      <th></th>\n",
       "      <th>Year</th>\n",
       "      <th>Count</th>\n",
       "    </tr>\n",
       "  </thead>\n",
       "  <tbody>\n",
       "    <tr>\n",
       "      <th>0</th>\n",
       "      <td>2013</td>\n",
       "      <td>1</td>\n",
       "    </tr>\n",
       "    <tr>\n",
       "      <th>1</th>\n",
       "      <td>2014</td>\n",
       "      <td>3</td>\n",
       "    </tr>\n",
       "    <tr>\n",
       "      <th>2</th>\n",
       "      <td>2015</td>\n",
       "      <td>3</td>\n",
       "    </tr>\n",
       "    <tr>\n",
       "      <th>3</th>\n",
       "      <td>2016</td>\n",
       "      <td>2</td>\n",
       "    </tr>\n",
       "    <tr>\n",
       "      <th>4</th>\n",
       "      <td>2017</td>\n",
       "      <td>8</td>\n",
       "    </tr>\n",
       "    <tr>\n",
       "      <th>5</th>\n",
       "      <td>2018</td>\n",
       "      <td>19</td>\n",
       "    </tr>\n",
       "    <tr>\n",
       "      <th>6</th>\n",
       "      <td>2019</td>\n",
       "      <td>18</td>\n",
       "    </tr>\n",
       "  </tbody>\n",
       "</table>\n",
       "</div>"
      ],
      "text/plain": [
       "   Year  Count\n",
       "0  2013      1\n",
       "1  2014      3\n",
       "2  2015      3\n",
       "3  2016      2\n",
       "4  2017      8\n",
       "5  2018     19\n",
       "6  2019     18"
      ]
     },
     "execution_count": 40,
     "metadata": {},
     "output_type": "execute_result"
    }
   ],
   "source": [
    "temp_distribution"
   ]
  },
  {
   "cell_type": "code",
   "execution_count": 41,
   "metadata": {},
   "outputs": [
    {
     "data": {
      "text/plain": [
       "Text(0, 0.5, 'Publication Count')"
      ]
     },
     "execution_count": 41,
     "metadata": {},
     "output_type": "execute_result"
    },
    {
     "data": {
      "image/png": "[encoded data removed]",
      "text/plain": [
       "<Figure size 432x288 with 1 Axes>"
      ]
     },
     "metadata": {
      "needs_background": "light"
     },
     "output_type": "display_data"
    }
   ],
   "source": [
    "plot = temp_distribution.plot.bar(x='Year', y='Count', yticks = [x for x in range(21) if x%2==0], rot = 0, legend= False)\n",
    "plot.set_ylabel(\"Publication Count\")"
   ]
  },
  {
   "cell_type": "code",
   "execution_count": 42,
   "metadata": {},
   "outputs": [],
   "source": [
    "plot.get_figure().savefig('temporal_distribution.pdf', format='pdf')\n",
    "plot.get_figure().savefig('temporal_distribution.png', format='png')"
   ]
  },
  {
   "cell_type": "markdown",
   "metadata": {},
   "source": [
    "## Plotting Domain Context with temporal distribution as an unstacked Bar Chart"
   ]
  },
  {
   "cell_type": "code",
   "execution_count": 43,
   "metadata": {},
   "outputs": [],
   "source": [
    "df2 = pd.read_excel('Domain Contexts3.xlsx', index_col=0) # File exported from Atlas.ti using the Code-Document cross tabulation\n",
    "df2.drop(columns= 'Totals', inplace= True)"
   ]
  },
  {
   "cell_type": "code",
   "execution_count": 44,
   "metadata": {},
   "outputs": [
    {
     "name": "stdout",
     "output_type": "stream",
     "text": [
      "Totals\n",
      "Document(s) not matching Document - Year - Author format at position(s) [58]   ['Totals']\n"
     ]
    }
   ],
   "source": [
    "# Remove Groundedness Data from Atlas and checking for expected format\n",
    "df2.columns = [x.splitlines()[0] for x in df2.columns]\n",
    "df2.index = [x.splitlines()[0] for x in df2.index]\n",
    "documentNosToRename = []\n",
    "documents = []\n",
    "flag = False\n",
    "for i, x in enumerate(df2.index):\n",
    "    if (x.count('-')<2):\n",
    "        flag = True\n",
    "        documentNosToRename.append(i)\n",
    "        documents.append(x)\n",
    "        print(df2.index[i])\n",
    "        \n",
    "if flag:\n",
    "    print('Document(s) not matching Document - Year - Author format at position(s)', documentNosToRename, ' ', documents )\n",
    "df2.columns = [re.sub(r'●', '', x) for x in df2.columns]"
   ]
  },
  {
   "cell_type": "code",
   "execution_count": 45,
   "metadata": {},
   "outputs": [],
   "source": [
    "# removing Totals (last) row \n",
    "df2 = df2.head(-1)"
   ]
  },
  {
   "cell_type": "code",
   "execution_count": 46,
   "metadata": {},
   "outputs": [],
   "source": [
    "#  checking for unexpected datatpe in Year Column\n",
    "years = [x.rsplit('-',2)[YEAR_INDEX].strip() for x in df2.index ]\n",
    "years = [x  if x.isnumeric() else None for x in years]\n",
    "if None in years:\n",
    "    print('[Warning] Non-numeric data detected in column Year')\n",
    "df2.insert(0,'Year',years)"
   ]
  },
  {
   "cell_type": "code",
   "execution_count": 47,
   "metadata": {},
   "outputs": [],
   "source": [
    "# formatting title\n",
    "title = [x.rsplit('-',2)[TITLE_INDEX] for x in df2.index]\n",
    "df2.insert(0,'Title',title)"
   ]
  },
  {
   "cell_type": "code",
   "execution_count": 48,
   "metadata": {},
   "outputs": [],
   "source": [
    "df2.reset_index(drop=True, inplace=True )\n",
    "df2.set_index('Title', inplace=True)"
   ]
  },
  {
   "cell_type": "code",
   "execution_count": 49,
   "metadata": {},
   "outputs": [],
   "source": [
    "# formatting column names\n",
    "df2.columns = [x.split(':')[-1].strip() for x in df2.columns]"
   ]
  },
  {
   "cell_type": "code",
   "execution_count": 50,
   "metadata": {},
   "outputs": [
    {
     "data": {
      "text/html": [
       "<div>\n",
       "<style scoped>\n",
       "    .dataframe tbody tr th:only-of-type {\n",
       "        vertical-align: middle;\n",
       "    }\n",
       "\n",
       "    .dataframe tbody tr th {\n",
       "        vertical-align: top;\n",
       "    }\n",
       "\n",
       "    .dataframe thead th {\n",
       "        text-align: right;\n",
       "    }\n",
       "</style>\n",
       "<table border=\"1\" class=\"dataframe\">\n",
       "  <thead>\n",
       "    <tr style=\"text-align: right;\">\n",
       "      <th></th>\n",
       "      <th>Year</th>\n",
       "      <th>additive manufacturing</th>\n",
       "      <th>aerospace</th>\n",
       "      <th>Industry 4.0</th>\n",
       "      <th>others</th>\n",
       "    </tr>\n",
       "    <tr>\n",
       "      <th>Title</th>\n",
       "      <th></th>\n",
       "      <th></th>\n",
       "      <th></th>\n",
       "      <th></th>\n",
       "      <th></th>\n",
       "    </tr>\n",
       "  </thead>\n",
       "  <tbody>\n",
       "    <tr>\n",
       "      <th>3D PROCESS ANALYTICS FOR CARBON COMPOSITE MANUFACTURING</th>\n",
       "      <td>2014</td>\n",
       "      <td>0</td>\n",
       "      <td>1</td>\n",
       "      <td>0</td>\n",
       "      <td>0</td>\n",
       "    </tr>\n",
       "    <tr>\n",
       "      <th>A closed-loop inspection architecture for additive manufacturing based on step standard</th>\n",
       "      <td>2019</td>\n",
       "      <td>1</td>\n",
       "      <td>0</td>\n",
       "      <td>1</td>\n",
       "      <td>0</td>\n",
       "    </tr>\n",
       "    <tr>\n",
       "      <th>A collaborative architecture of the industrial internet platform for manufacturing systems</th>\n",
       "      <td>2020</td>\n",
       "      <td>0</td>\n",
       "      <td>0</td>\n",
       "      <td>0</td>\n",
       "      <td>1</td>\n",
       "    </tr>\n",
       "    <tr>\n",
       "      <th>A digital thread approach to support manufacturing-influenced conceptual aircraft design</th>\n",
       "      <td>2018</td>\n",
       "      <td>0</td>\n",
       "      <td>1</td>\n",
       "      <td>0</td>\n",
       "      <td>0</td>\n",
       "    </tr>\n",
       "    <tr>\n",
       "      <th>A Hybrid Architecture for Secure Management of Manufacturing Data in Industry 4.0</th>\n",
       "      <td>2019</td>\n",
       "      <td>0</td>\n",
       "      <td>0</td>\n",
       "      <td>1</td>\n",
       "      <td>0</td>\n",
       "    </tr>\n",
       "  </tbody>\n",
       "</table>\n",
       "</div>"
      ],
      "text/plain": [
       "                                                    Year  \\\n",
       "Title                                                      \n",
       "3D PROCESS ANALYTICS FOR CARBON COMPOSITE MANUF...  2014   \n",
       "A closed-loop inspection architecture for addit...  2019   \n",
       "A collaborative architecture of the industrial ...  2020   \n",
       "A digital thread approach to support manufactur...  2018   \n",
       "A Hybrid Architecture for Secure Management of ...  2019   \n",
       "\n",
       "                                                    additive manufacturing  \\\n",
       "Title                                                                        \n",
       "3D PROCESS ANALYTICS FOR CARBON COMPOSITE MANUF...                       0   \n",
       "A closed-loop inspection architecture for addit...                       1   \n",
       "A collaborative architecture of the industrial ...                       0   \n",
       "A digital thread approach to support manufactur...                       0   \n",
       "A Hybrid Architecture for Secure Management of ...                       0   \n",
       "\n",
       "                                                    aerospace  Industry 4.0  \\\n",
       "Title                                                                         \n",
       "3D PROCESS ANALYTICS FOR CARBON COMPOSITE MANUF...          1             0   \n",
       "A closed-loop inspection architecture for addit...          0             1   \n",
       "A collaborative architecture of the industrial ...          0             0   \n",
       "A digital thread approach to support manufactur...          1             0   \n",
       "A Hybrid Architecture for Secure Management of ...          0             1   \n",
       "\n",
       "                                                    others  \n",
       "Title                                                       \n",
       "3D PROCESS ANALYTICS FOR CARBON COMPOSITE MANUF...       0  \n",
       "A closed-loop inspection architecture for addit...       0  \n",
       "A collaborative architecture of the industrial ...       1  \n",
       "A digital thread approach to support manufactur...       0  \n",
       "A Hybrid Architecture for Secure Management of ...       0  "
      ]
     },
     "execution_count": 50,
     "metadata": {},
     "output_type": "execute_result"
    }
   ],
   "source": [
    "# grouping minority columns to 'others' column\n",
    "df2['others'] =   df2['automotive'] + df2['biopharmaceutical'] + df2['chips'] + df2['education'] +df2['energy']+df2['IIoT'] + df2['intelligent manufacturing'] + df2['Model-Based Engineering'] + df2['model-based enterprise'] + df2['product lifecycle management'] + df2['robot programming'] + df2['scalable distributed manufacturing systems'] + df2['smart manufacturing'] + df2['Systems Engineering']\n",
    "df2.drop(['automotive','biopharmaceutical','chips','energy','education','IIoT','intelligent manufacturing', 'Model-Based Engineering','model-based enterprise','product lifecycle management','robot programming','scalable distributed manufacturing systems','smart manufacturing','Systems Engineering'], axis =1, inplace = True)\n",
    "df2.head()"
   ]
  },
  {
   "cell_type": "code",
   "execution_count": 51,
   "metadata": {},
   "outputs": [
    {
     "name": "stderr",
     "output_type": "stream",
     "text": [
      "C:\\Users\\david\\AppData\\Local\\Continuum\\anaconda3\\lib\\site-packages\\pandas\\plotting\\_core.py:194: UserWarning: 'colors' is being deprecated. Please use 'color'instead of 'colors'\n",
      "  warnings.warn((\"'colors' is being deprecated. Please use 'color'\"\n"
     ]
    },
    {
     "data": {
      "image/png": "[encoded data removed]",
      "text/plain": [
       "<Figure size 432x288 with 1 Axes>"
      ]
     },
     "metadata": {
      "needs_background": "light"
     },
     "output_type": "display_data"
    }
   ],
   "source": [
    "# preparing and plotting the data\n",
    "unstacked_dataset = df2.groupby(['Year']).sum()[:-1]\n",
    "chart_colors = np.array([\"indianred\",\"rosybrown\", \"khaki\", \"teal\"])\n",
    "ax = unstacked_dataset.plot(kind = 'bar', colors= chart_colors)\n",
    "ax.set_ylabel(\"Publication Count\")\n",
    "ax.tick_params(labelrotation=0)"
   ]
  },
  {
   "cell_type": "code",
   "execution_count": 52,
   "metadata": {},
   "outputs": [],
   "source": [
    "# saving the figure\n",
    "ax.figure.savefig('unstacked_dataset.pdf')\n",
    "ax.figure.savefig('unstacked_dataset.png')\n",
    "plt.close()"
   ]
  },
  {
   "cell_type": "markdown",
   "metadata": {},
   "source": [
    "### Type of Publication"
   ]
  },
  {
   "cell_type": "code",
   "execution_count": 53,
   "metadata": {},
   "outputs": [
    {
     "data": {
      "text/html": [
       "<div>\n",
       "<style scoped>\n",
       "    .dataframe tbody tr th:only-of-type {\n",
       "        vertical-align: middle;\n",
       "    }\n",
       "\n",
       "    .dataframe tbody tr th {\n",
       "        vertical-align: top;\n",
       "    }\n",
       "\n",
       "    .dataframe thead th {\n",
       "        text-align: right;\n",
       "    }\n",
       "</style>\n",
       "<table border=\"1\" class=\"dataframe\">\n",
       "  <thead>\n",
       "    <tr style=\"text-align: right;\">\n",
       "      <th></th>\n",
       "      <th>Type Of Publication</th>\n",
       "    </tr>\n",
       "  </thead>\n",
       "  <tbody>\n",
       "    <tr>\n",
       "      <th>approach / methodology</th>\n",
       "      <td>16</td>\n",
       "    </tr>\n",
       "    <tr>\n",
       "      <th>concept or theoretical solution</th>\n",
       "      <td>16</td>\n",
       "    </tr>\n",
       "    <tr>\n",
       "      <th>implementation\\n</th>\n",
       "      <td>13</td>\n",
       "    </tr>\n",
       "    <tr>\n",
       "      <th>review / survey / evaluation\\n</th>\n",
       "      <td>13</td>\n",
       "    </tr>\n",
       "    <tr>\n",
       "      <th>Totals</th>\n",
       "      <td>58</td>\n",
       "    </tr>\n",
       "  </tbody>\n",
       "</table>\n",
       "</div>"
      ],
      "text/plain": [
       "                                 Type Of Publication\n",
       "approach / methodology                            16\n",
       "concept or theoretical solution                   16\n",
       "implementation\\n                                  13\n",
       "review / survey / evaluation\\n                    13\n",
       "Totals                                            58"
      ]
     },
     "execution_count": 53,
     "metadata": {},
     "output_type": "execute_result"
    }
   ],
   "source": [
    "df1 = pd.read_excel('dataset-type of contribution.xlsx', sheet_name='CodeDocumentTable' )\n",
    "df1"
   ]
  },
  {
   "cell_type": "code",
   "execution_count": 54,
   "metadata": {},
   "outputs": [],
   "source": [
    "# preparing data for plotting\n",
    "df1 = df1.head(-1)\n",
    "df1.reset_index(inplace=True, drop = True)\n",
    "s = pd.Series(['category III','category II','category IV','category I'])\n",
    "s.name  ='type of contribution'\n",
    "df1.insert(column = 'type of contribution', value = s, loc = 0)\n",
    "df1.set_index('type of contribution', inplace=True)\n",
    "df1 = df1.reindex(['category I','category II','category III','category IV'])"
   ]
  },
  {
   "cell_type": "code",
   "execution_count": 55,
   "metadata": {},
   "outputs": [
    {
     "data": {
      "text/plain": [
       "[None, None, None, None, None, None, None, None]"
      ]
     },
     "execution_count": 55,
     "metadata": {},
     "output_type": "execute_result"
    },
    {
     "data": {
      "image/png": "[encoded data removed]",
      "text/plain": [
       "<Figure size 504x360 with 1 Axes>"
      ]
     },
     "metadata": {},
     "output_type": "display_data"
    }
   ],
   "source": [
    "# plotting data \n",
    "fig, ax = plt.subplots(figsize=(7, 5), subplot_kw=dict(aspect=\"equal\"))\n",
    "\n",
    "values = df1['Type Of Publication'].to_dict()\n",
    "\n",
    "labels = [\"category I: reviews \\n or evaluations\", \"category II: concepts or \\n theoretical solutions\", \"category III: methodologies \\nor approaches\", \"category IV: practical solutions\\nor implementations\"]\n",
    "publication_count = df1['Type Of Publication'].tolist()\n",
    "\n",
    "type_of_publication = df1.index.tolist()\n",
    "\n",
    "pie_colors = np.array([\"lightcoral\",\"moccasin\", \"lavender\", \"skyblue\"])\n",
    "\n",
    "def make_autopct(values):\n",
    "    def my_autopct(pct):\n",
    "        total = sum(values.values())\n",
    "        val = int(round(pct*total/100.0))\n",
    "        return '{p:.1f}%\\n({v:d})'.format(p=pct,v=val)\n",
    "    return my_autopct\n",
    "\n",
    "\n",
    "wedges, texts, autotexts = ax.pie(publication_count, autopct=make_autopct(values), colors=pie_colors,\n",
    "                                  textprops=dict(color=\"black\"), labels = labels)\n",
    "\n",
    "plt.setp(autotexts, size=8)"
   ]
  },
  {
   "cell_type": "code",
   "execution_count": 56,
   "metadata": {},
   "outputs": [],
   "source": [
    "# saving the figure\n",
    "ax.figure.savefig('Type of Contribution.pdf')\n",
    "ax.figure.savefig('Type of Contribution.png')\n",
    "plt.show()"
   ]
  },
  {
   "cell_type": "markdown",
   "metadata": {},
   "source": [
    "## Lifecycle Focus Areas"
   ]
  },
  {
   "cell_type": "code",
   "execution_count": 57,
   "metadata": {},
   "outputs": [
    {
     "data": {
      "text/html": [
       "<div>\n",
       "<style scoped>\n",
       "    .dataframe tbody tr th:only-of-type {\n",
       "        vertical-align: middle;\n",
       "    }\n",
       "\n",
       "    .dataframe tbody tr th {\n",
       "        vertical-align: top;\n",
       "    }\n",
       "\n",
       "    .dataframe thead th {\n",
       "        text-align: right;\n",
       "    }\n",
       "</style>\n",
       "<table border=\"1\" class=\"dataframe\">\n",
       "  <thead>\n",
       "    <tr style=\"text-align: right;\">\n",
       "      <th></th>\n",
       "      <th>lifcyc: a. planning</th>\n",
       "      <th>lifcyc: b. design</th>\n",
       "      <th>lifcyc: c. manufacturing</th>\n",
       "      <th>lifcyc: d. testing/quality/inspection</th>\n",
       "      <th>lifcyc: e. operations and support</th>\n",
       "      <th>lifcyc: f. end of lfe</th>\n",
       "      <th>lifcyc: z. across lifecycle</th>\n",
       "    </tr>\n",
       "    <tr>\n",
       "      <th>Title</th>\n",
       "      <th></th>\n",
       "      <th></th>\n",
       "      <th></th>\n",
       "      <th></th>\n",
       "      <th></th>\n",
       "      <th></th>\n",
       "      <th></th>\n",
       "    </tr>\n",
       "  </thead>\n",
       "  <tbody>\n",
       "    <tr>\n",
       "      <th>3D PROCESS ANALYTICS FOR CARBON COMPOSITE MANUFACTURING</th>\n",
       "      <td>0</td>\n",
       "      <td>0</td>\n",
       "      <td>1</td>\n",
       "      <td>0</td>\n",
       "      <td>1</td>\n",
       "      <td>0</td>\n",
       "      <td>0</td>\n",
       "    </tr>\n",
       "    <tr>\n",
       "      <th>A closed-loop inspection architecture for additive manufacturing based on step standard</th>\n",
       "      <td>0</td>\n",
       "      <td>1</td>\n",
       "      <td>1</td>\n",
       "      <td>1</td>\n",
       "      <td>0</td>\n",
       "      <td>0</td>\n",
       "      <td>0</td>\n",
       "    </tr>\n",
       "  </tbody>\n",
       "</table>\n",
       "</div>"
      ],
      "text/plain": [
       "                                                    lifcyc: a. planning  \\\n",
       "Title                                                                     \n",
       "3D PROCESS ANALYTICS FOR CARBON COMPOSITE MANUF...                    0   \n",
       "A closed-loop inspection architecture for addit...                    0   \n",
       "\n",
       "                                                    lifcyc: b. design  \\\n",
       "Title                                                                   \n",
       "3D PROCESS ANALYTICS FOR CARBON COMPOSITE MANUF...                  0   \n",
       "A closed-loop inspection architecture for addit...                  1   \n",
       "\n",
       "                                                    lifcyc: c. manufacturing  \\\n",
       "Title                                                                          \n",
       "3D PROCESS ANALYTICS FOR CARBON COMPOSITE MANUF...                         1   \n",
       "A closed-loop inspection architecture for addit...                         1   \n",
       "\n",
       "                                                    lifcyc: d. testing/quality/inspection  \\\n",
       "Title                                                                                       \n",
       "3D PROCESS ANALYTICS FOR CARBON COMPOSITE MANUF...                                      0   \n",
       "A closed-loop inspection architecture for addit...                                      1   \n",
       "\n",
       "                                                    lifcyc: e. operations and support  \\\n",
       "Title                                                                                   \n",
       "3D PROCESS ANALYTICS FOR CARBON COMPOSITE MANUF...                                  1   \n",
       "A closed-loop inspection architecture for addit...                                  0   \n",
       "\n",
       "                                                    lifcyc: f. end of lfe  \\\n",
       "Title                                                                       \n",
       "3D PROCESS ANALYTICS FOR CARBON COMPOSITE MANUF...                      0   \n",
       "A closed-loop inspection architecture for addit...                      0   \n",
       "\n",
       "                                                    lifcyc: z. across lifecycle  \n",
       "Title                                                                            \n",
       "3D PROCESS ANALYTICS FOR CARBON COMPOSITE MANUF...                            0  \n",
       "A closed-loop inspection architecture for addit...                            0  "
      ]
     },
     "execution_count": 57,
     "metadata": {},
     "output_type": "execute_result"
    }
   ],
   "source": [
    "# making a separate dataframe containing only lifecycle information\n",
    "df3 = df[LIF_column_names]\n",
    "df3.head(2)"
   ]
  },
  {
   "cell_type": "code",
   "execution_count": 58,
   "metadata": {},
   "outputs": [],
   "source": [
    "# thresholding all values to 1\n",
    "df3 = df3.ge(1).astype(int)"
   ]
  },
  {
   "cell_type": "code",
   "execution_count": 59,
   "metadata": {},
   "outputs": [],
   "source": [
    "df3.loc['Column_Total']= df3.sum(numeric_only=True, axis=0)\n",
    "df3.to_excel('Lifecycle report.xlsx')"
   ]
  },
  {
   "cell_type": "code",
   "execution_count": 60,
   "metadata": {
    "scrolled": false
   },
   "outputs": [],
   "source": [
    "# making a mask for those rows have True for across lifecycle\n",
    "mask = df3['lifcyc: z. across lifecycle']==1"
   ]
  },
  {
   "cell_type": "code",
   "execution_count": 61,
   "metadata": {},
   "outputs": [],
   "source": [
    "# using mask to set that row all columns to 1\n",
    "df3.loc[mask, LIF_column_names] = 1"
   ]
  },
  {
   "cell_type": "code",
   "execution_count": 62,
   "metadata": {},
   "outputs": [],
   "source": [
    "df3.loc['Column_Total']= df3.sum(numeric_only=True, axis=0)\n",
    "ex = df3.loc['Column_Total']"
   ]
  },
  {
   "cell_type": "code",
   "execution_count": 63,
   "metadata": {},
   "outputs": [
    {
     "data": {
      "text/plain": [
       "<matplotlib.axes._subplots.AxesSubplot at 0x251d0e4b748>"
      ]
     },
     "execution_count": 63,
     "metadata": {},
     "output_type": "execute_result"
    },
    {
     "data": {
      "image/png": "[encoded data removed]",
      "text/plain": [
       "<Figure size 432x288 with 1 Axes>"
      ]
     },
     "metadata": {
      "needs_background": "light"
     },
     "output_type": "display_data"
    }
   ],
   "source": [
    "ex.plot.area()"
   ]
  }
 ],
 "metadata": {
  "kernelspec": {
   "display_name": "Python 3",
   "language": "python",
   "name": "python3"
  },
  "language_info": {
   "codemirror_mode": {
    "name": "ipython",
    "version": 3
   },
   "file_extension": ".py",
   "mimetype": "text/x-python",
   "name": "python",
   "nbconvert_exporter": "python",
   "pygments_lexer": "ipython3",
   "version": "3.7.1"
  }
 },
 "nbformat": 4,
 "nbformat_minor": 2
}
